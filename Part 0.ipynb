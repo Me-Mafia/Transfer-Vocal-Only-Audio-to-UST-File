{
 "cells": [
  {
   "cell_type": "markdown",
   "id": "f815f287",
   "metadata": {},
   "source": [
    "# TO TRANSFER A VOCAL-ONLY AUDIO CLIP TO A UST FILE\n",
    "\n",
    "Jan 21, 2022, *By Github: @ME-MAFIA*\n",
    "\n",
    "## Part 0 : Preprocessing\n",
    "\n",
    "In the part, the given audio in wav form is expected to be transferred to arrays with a sampling rate of 16000 Hz."
   ]
  },
  {
   "cell_type": "markdown",
   "id": "3245f974",
   "metadata": {},
   "source": [
    "IMPORT THE NEEDED PACKAGES"
   ]
  },
  {
   "cell_type": "code",
   "execution_count": 2,
   "id": "70aec2ae",
   "metadata": {},
   "outputs": [],
   "source": [
    "%load_ext autoreload\n",
    "%autoreload 2\n",
    "%matplotlib inline"
   ]
  },
  {
   "cell_type": "code",
   "execution_count": 3,
   "id": "95a65a29",
   "metadata": {},
   "outputs": [
    {
     "name": "stdout",
     "output_type": "stream",
     "text": [
      "3.8.1\n",
      "2.8.0\n"
     ]
    }
   ],
   "source": [
    "import matplotlib.pyplot as plt\n",
    "import speech_recognition as spr\n",
    "print(spr.__version__)\n",
    "import numpy as np\n",
    "import librosa as lb\n",
    "from librosa import display, feature, beat\n",
    "import utaupy as utp\n",
    "import playsound\n",
    "import pylab\n",
    "import tensorflow as tf\n",
    "print(tf.__version__)"
   ]
  },
  {
   "cell_type": "markdown",
   "id": "b3c7a2f9",
   "metadata": {},
   "source": [
    "LOAD THE AUDIO FILE"
   ]
  },
  {
   "cell_type": "code",
   "execution_count": 4,
   "id": "492a2c4c",
   "metadata": {},
   "outputs": [
    {
     "name": "stdout",
     "output_type": "stream",
     "text": [
      "120\n"
     ]
    },
    {
     "data": {
      "text/plain": [
       "<matplotlib.collections.QuadMesh at 0x254b371d460>"
      ]
     },
     "execution_count": 4,
     "metadata": {},
     "output_type": "execute_result"
    },
    {
     "data": {
      "image/png": "[encoded data removed]",
      "text/plain": [
       "<Figure size 432x288 with 2 Axes>"
      ]
     },
     "metadata": {
      "needs_background": "light"
     },
     "output_type": "display_data"
    }
   ],
   "source": [
    "from preprocess import load_vocal_in, vocal_cut\n",
    "carol, carol_sr, carol_mfcc = load_vocal_in('untitled.wav')\n",
    "song, song_sr = lb.load('song.wav', sr = None)\n",
    "carol = lb.resample(carol, carol_sr, 16000)\n",
    "carol_sr = 16000\n",
    "carol_tempo = int(beat.tempo(song, song_sr))\n",
    "print(carol_tempo)\n",
    "\n",
    "array_carol = vocal_cut(carol)\n",
    "plt.subplot(1, 2, 1)\n",
    "display.waveshow(carol, carol_sr)\n",
    "plt.subplot(1, 2, 2)\n",
    "display.specshow(carol_mfcc)\n"
   ]
  },
  {
   "cell_type": "code",
   "execution_count": null,
   "id": "e7e6ed9d",
   "metadata": {},
   "outputs": [],
   "source": [
    "from random import randint \n",
    "a = randint(0, carol.shape[0] - 10)\n"
   ]
  },
  {
   "cell_type": "markdown",
   "id": "5629fbd2",
   "metadata": {},
   "source": [
    "## Part 1: Find the parameters: pronunciation, pitch & tunes\n",
    "\n",
    "### 1 - 0: Speech Recognition - Find the lyrics and corresponding times\n"
   ]
  },
  {
   "cell_type": "code",
   "execution_count": 5,
   "id": "14b877e4",
   "metadata": {},
   "outputs": [],
   "source": [
    "import time\n",
    "import librosa\n",
    "import librosa.display \n",
    "from dtw import dtw\n",
    "from scipy.spatial.distance import cdist"
   ]
  },
  {
   "cell_type": "code",
   "execution_count": 6,
   "id": "21cd2ca8",
   "metadata": {},
   "outputs": [
    {
     "name": "stdout",
     "output_type": "stream",
     "text": [
      "Help on function dtw in module dtw.dtw:\n",
      "\n",
      "dtw(x, y, dist, warp=1, w=inf, s=1.0)\n",
      "    Computes Dynamic Time Warping (DTW) of two sequences.\n",
      "    \n",
      "    :param array x: N1*M array\n",
      "    :param array y: N2*M array\n",
      "    :param func dist: distance used as cost measure\n",
      "    :param int warp: how many shifts are computed.\n",
      "    :param int w: window size limiting the maximal distance between indices of matched entries |i,j|.\n",
      "    :param float s: weight applied on off-diagonal moves of the path. As s gets larger, the warping path is increasingly biased towards the diagonal\n",
      "    Returns the minimum distance, the cost matrix, the accumulated cost matrix, and the wrap path.\n",
      "\n"
     ]
    }
   ],
   "source": [
    "help(dtw)"
   ]
  },
  {
   "cell_type": "markdown",
   "id": "6036c377",
   "metadata": {},
   "source": [
    "### 1 - 1 The MIDI Produced from the Audio\n",
    "\n",
    "In this section, a MIDI file, without the variation of pitch in each note is expected to be produced from the audio."
   ]
  },
  {
   "cell_type": "code",
   "execution_count": 6,
   "id": "dc5cd12c",
   "metadata": {},
   "outputs": [
    {
     "name": "stdout",
     "output_type": "stream",
     "text": [
      "5736\n",
      "[0. 0. 0. ... 0. 0. 0.]\n"
     ]
    }
   ],
   "source": [
    "print(array_carol.shape[0])\n",
    "from preprocess import find_pitch\n",
    "pitch = find_pitch(array_carol)\n",
    "print(pitch)"
   ]
  }
 ],
 "metadata": {
  "celltoolbar": "无",
  "kernelspec": {
   "display_name": "Python 3 (ipykernel)",
   "language": "python",
   "name": "python3"
  },
  "language_info": {
   "codemirror_mode": {
    "name": "ipython",
    "version": 3
   },
   "file_extension": ".py",
   "mimetype": "text/x-python",
   "name": "python",
   "nbconvert_exporter": "python",
   "pygments_lexer": "ipython3",
   "version": "3.8.8"
  }
 },
 "nbformat": 4,
 "nbformat_minor": 5
}
